{
 "cells": [
  {
   "cell_type": "markdown",
   "metadata": {},
   "source": [
    "# Failure Pareto for Test Results\n",
    "This notebook creates a failure pareto report for test results. It ties into the **Test Monitor Service** for retrieving filtered test results, the **Notebook Execution Service** for running outside of Jupyterhub, and **File Service** to store analysis result.\n"
   ]
  },
  {
   "cell_type": "markdown",
   "metadata": {},
   "source": [
    "### Imports\n",
    "Import Python modules for executing the notebook. Pandas is used for building and handling dataframes. Scrapbook is used for recording data for the Notebook Execution Service. The SystemLink Test Monitor Client provides access to test result data for processing."
   ]
  },
  {
   "cell_type": "code",
   "execution_count": 17,
   "metadata": {},
   "outputs": [],
   "source": [
    "import copy\n",
    "import datetime\n",
    "import os\n",
    "import pandas as pd\n",
    "import scrapbook as sb\n",
    "from dateutil import tz\n",
    "import io\n",
    "import matplotlib.pyplot as plt\n",
    "\n",
    "# Import SystemLink clients\n",
    "from nisystemlink.clients.core import HttpConfiguration\n",
    "from nisystemlink.clients.testmonitor import TestMonitorClient\n",
    "from nisystemlink.clients.testmonitor.models import (\n",
    "    CreateResultRequest,\n",
    "    QueryResultsRequest,\n",
    "    QueryResultValuesRequest,\n",
    "    ResultField,\n",
    "    Status,\n",
    "    StatusType,\n",
    "    UpdateResultRequest,\n",
    ")\n",
    "\n",
    "from nisystemlink.clients.product import ProductClient\n",
    "from nisystemlink.clients.product.models import (\n",
    "    CreateProductRequest,\n",
    "    ProductField,\n",
    "    ProductOrderBy,\n",
    "    QueryProductsRequest,\n",
    "    QueryProductValuesRequest,\n",
    ")\n",
    "\n",
    "from nisystemlink.clients.file import FileClient"
   ]
  },
  {
   "cell_type": "markdown",
   "metadata": {},
   "source": [
    "### Parameters\n",
    "- `result_ids`: IDs of the test results.\n",
    "\n",
    "Parameters are also listed in the metadata for the parameters cell, along with their default values. The Notebook Execution services uses that metadata to pass parameters to this notebook. To see the metadata, select the code cell and click the wrench icon in the far left panel.\n",
    "\n",
    "Sample metadata:\n",
    "\n",
    "```json\n",
    "{\n",
    "  \"papermill\": {\n",
    "    \"parameters\": {\n",
    "      \"result_ids\": []\n",
    "    }\n",
    "  },\n",
    "  \"systemlink\": {\n",
    "    \"namespaces\": [],\n",
    "    \"parameters\": [\n",
    "      {\n",
    "        \"display_name\": \"result_ids\",\n",
    "        \"id\": \"result_ids\",\n",
    "        \"type\": \"string[]\"\n",
    "      }\n",
    "    ],\n",
    "    \"version\": 2\n",
    "  },\n",
    "  \"tags\": [\"parameters\"]\n",
    "}\n",
    "```\n",
    "\n",
    "For more information on how parameterization works, review the [papermill documentation](https://papermill.readthedocs.io/en/latest/usage-parameterize.html#how-parameters-work)."
   ]
  },
  {
   "cell_type": "code",
   "execution_count": 18,
   "metadata": {
    "papermill": {
     "parameters": {
      "result_ids": []
     }
    },
    "systemlink": {
     "namespaces": [
      "ni-testmanagement"
     ],
     "outputs": [],
     "parameters": [
      {
       "display_name": "result_ids",
       "id": "result_ids",
       "type": "string[]"
      }
     ],
     "version": 2
    },
    "tags": [
     "parameters"
    ]
   },
   "outputs": [],
   "source": [
    "result_ids = [\n",
    "    \"52da240b-3fac-4629-9907-09062a557ee0\",\n",
    "    \"9d22e02f-1a96-4e7c-a573-effee83b6e5f\",\n",
    "    \"c019cb82-8966-408e-b841-5d26a6d926c3\",\n",
    "    \"f8c28c46-4560-4760-b204-dc60c6b44472\",\n",
    "    \"4f365ad0-06c1-4df5-ab47-6cd4f823e475\",\n",
    "    \"b8ed3a91-8b01-430e-ab28-93c7044ed1dd\",\n",
    "    \"2a837c66-13fb-4c36-88c8-e100f9e62fd2\",\n",
    "    \"a7e6e3c9-d36d-4376-97c9-2640bdbae909\",\n",
    "    \"0539018b-b4ba-403c-bc6a-423d0d9070f3\",\n",
    "    \"3c1b7a0b-26b8-409b-b668-005d2a1b1bae\",\n",
    "    \"4394063f-1e4e-44f8-9ebf-51fb25f6f381\",\n",
    "    \"c099edb5-2123-4748-b6fc-0b49d1fbc929\",\n",
    "    \"f4f83a44-94b2-434d-b91a-8779d267d123\",\n",
    "    \"e4bf2e33-ab6e-42ab-871b-806642a90770\",\n",
    "    \"ffb1f286-7628-4516-b8dd-bb1357c27c3f\",\n",
    "    \"0663c7c3-bfe7-420f-bb76-c09cffa1279c\",\n",
    "    \"4378c234-530d-4ec8-b939-919abc7faab3\",\n",
    "    \"6009140a-4959-4b76-85e9-4eb50d2c975c\",\n",
    "    \"70ec2e7a-c1f8-42d6-a039-b8643512bb4f\",\n",
    "    \"7866b4ea-8229-4a23-8611-79ef80cb1d28\",\n",
    "    \"7d6b4b2a-e7d6-4126-922c-b8ad0fbf507c\",\n",
    "    \"b2444f44-8461-4ce6-9432-a335429bc81e\",\n",
    "    \"b58591e8-f08b-4958-9f2c-5d187e0bfc68\",\n",
    "    \"e06e480f-23ab-4554-a0ce-ec97a05dfc33\",\n",
    "    \"e7c06260-f836-46c6-9dd5-befda3d34148\",\n",
    "    \"09363a43-06bb-47d3-9009-fe67a0d85fc7\",\n",
    "    \"1cc80331-b47c-47bf-a6ea-29a1ead1c94b\",\n",
    "    \"53e16e09-859d-4411-beb5-0dac044f5aa0\",\n",
    "    \"b1423a65-b96a-4e6c-85d4-3a0b54584357\",\n",
    "    \"ba32dbe2-6703-4ff5-8762-1dadbd9a8ea6\",\n",
    "    \"be48d6e1-be59-40d4-b382-814bd12821cf\",\n",
    "    \"cd81d71a-4f60-4fc8-b0ac-1ffc510514ad\",\n",
    "    \"d48b390b-d64a-4356-917d-508d7a2dda1e\",\n",
    "    \"da29e33f-5b76-4838-b54f-0497b41577f8\",\n",
    "    \"dae57631-e2eb-4dfa-93ec-e619fde5d32d\",\n",
    "    \"de87982a-8c65-48af-806f-cc9a51e9124e\",\n",
    "    \"debd1351-28f6-4f00-8d85-27e72b802f2b\",\n",
    "    \"079a6ce6-7cfd-4b0d-ba29-b4944a955c9d\",\n",
    "    \"31263a93-d952-4ae7-8126-81562063174e\",\n",
    "    \"6192087d-c981-4298-91e8-5fd238f8275c\",\n",
    "    \"84062ce7-5aa5-4769-b75a-3dd1152b2545\",\n",
    "    \"9a62b6a6-15b3-42e9-8a3d-3ce9a00a05a0\",\n",
    "    \"9ef1b679-37ba-46cd-8850-b9c1ad50c989\",\n",
    "    \"a4008572-1103-492e-85be-ed99c899b988\",\n",
    "    \"c1d6c2be-e793-4604-8a02-de9ebc6feac2\",\n",
    "    \"cd8365e0-567d-4fa3-aced-7ed30e1b6d52\",\n",
    "    \"e42c4137-9214-40f7-9473-274769b3944c\",\n",
    "    \"eb16cd8e-eb7b-47e1-b2ea-4f9759763af5\",\n",
    "    \"f3816a72-9404-4403-9904-e43c22d9df95\",\n",
    "    \"0b5b7de7-c8d5-4b49-9ee4-16736a4157a2\",\n",
    "    \"0e26c218-265b-46d7-a094-88d7045e23a2\",\n",
    "    \"11deaff1-cd80-40a3-8506-091addc6dd1d\",\n",
    "    \"23cbb57d-99f2-4dce-9d11-377bbf123522\",\n",
    "    \"23d2ac70-70f4-4ca4-98d7-21df353cee5e\",\n",
    "    \"33bf4fe5-4a9c-47e7-ba92-aca7866349b7\",\n",
    "    \"3872daf7-a7d1-4288-bf49-839b29fa8aab\",\n",
    "    \"62072993-2979-41d1-a068-b3202b8491fa\",\n",
    "    \"7d9b1e04-8030-4394-a29c-3aece02183c5\",\n",
    "    \"89681c41-091d-4fb2-b900-40919b0f96ba\",\n",
    "    \"959be11e-1774-4558-bbcc-d1fd5b3e837a\",\n",
    "    \"97601b76-ad42-4ad7-8449-28b88221af28\",\n",
    "    \"ae5a9c7e-1211-483c-85dd-63e4f3aa91d5\",\n",
    "    \"b711d0c5-1d7f-4a03-8b6d-dd912ac064f6\",\n",
    "    \"d08ff7e4-c751-4355-8831-78ac1acd3b5e\",\n",
    "    \"df8d8757-00af-4e42-8253-1c003c7d38e4\",\n",
    "    \"02f366f0-f8d3-4f7c-9c7d-cf8cc3fa4a71\",\n",
    "    \"31c19f8b-44ee-4370-a86c-e4d7938a68d5\",\n",
    "    \"350c4eb7-b091-4f4a-bf83-c8c17cc87c4a\",\n",
    "    \"40994a26-a01b-4f38-a79e-81d0f186f01c\",\n",
    "    \"40fbbbda-4c18-4367-9205-c14da300b7a9\",\n",
    "    \"64c65557-33ef-474d-941d-ccd3b872f832\",\n",
    "    \"9cb90f3e-70a0-47d3-a200-c1a5b8589144\",\n",
    "    \"a83dd5ca-58a2-409d-b80d-6e6e91e0c3a3\",\n",
    "    \"d28832d9-2847-41b0-95e3-7ce55c23343e\"\n",
    "]\n"
   ]
  },
  {
   "cell_type": "markdown",
   "metadata": {},
   "source": [
    "#### Constants"
   ]
  },
  {
   "cell_type": "code",
   "execution_count": 19,
   "metadata": {},
   "outputs": [],
   "source": [
    "PART_NUMBER = 'Part Number'\n",
    "PLOT_FILE_NAME = \"pareto_graph.png\""
   ]
  },
  {
   "cell_type": "markdown",
   "metadata": {},
   "source": [
    "### Create Test Monitor client\n",
    "Establish a connection to SystemLink over HTTP in two steps.\n",
    "1. Builds an HTTPConfiguration object.\n",
    "2. Injects them into the API constructors."
   ]
  },
  {
   "cell_type": "markdown",
   "metadata": {},
   "source": [
    "## Building an HTTPConfiguration object\n",
    "\n",
    "In this part, we want to obtain both the remote server URI and the API key. This information is required by the APIs so that they can make the request to the right resources with proper access rights.\n",
    "\n",
    "It has three different approaches for getting this information:\n",
    "1. It tries to get the environment variables form the SystemLink server. If if fails.\n",
    "2. It tries to load the .env file and read the variables from it. If this also fails.\n",
    "3. It tries to uplaod from a local .json file\n",
    "\n",
    "the `get_server_configuration()` function gets the required server information and returns an `HTTPConfiguration` object."
   ]
  },
  {
   "cell_type": "code",
   "execution_count": 20,
   "metadata": {},
   "outputs": [],
   "source": [
    "def get_server_configuration():\n",
    "    # Load server URL and API key from environment variables or JSON file\n",
    "    server_uri = os.getenv(\"SYSTEMLINK_HTTP_URI\")\n",
    "    api_key = os.getenv(\"SYSTEMLINK_API_KEY\")\n",
    "\n",
    "    if not (server_uri and api_key):\n",
    "        try:\n",
    "            from dotenv import load_dotenv\n",
    "            load_dotenv()\n",
    "            server_uri = os.getenv(\"SYSTEMLINK_HTTP_URI\")\n",
    "            api_key = os.getenv(\"SYSTEMLINK_API_KEY\")\n",
    "            print(\"Loaded configuration from .env file.\")\n",
    "        except ImportError:\n",
    "            print(\"[Warning] Unable to locate dotenv module; skipping .env loading.\")\n",
    "\n",
    "    if not (server_uri and api_key):\n",
    "        with open('SystemLink_API_KEY.json') as f:\n",
    "            import json\n",
    "            config_data = json.load(f)\n",
    "            server_uri = config_data['systemlink_http_uri']\n",
    "            api_key = config_data['api_key']\n",
    "\n",
    "    return HttpConfiguration(server_uri=server_uri, api_key=api_key)\n",
    "\n",
    "server_configuration = get_server_configuration()"
   ]
  },
  {
   "cell_type": "markdown",
   "metadata": {},
   "source": [
    "## Injecting the HTTPConfiguration and Building the API Objects\n",
    "\n",
    "At this moment we can build the API objects by calling the constructors and passing the HTTPConfiguration object stored in the `server_configuration` variable as the input parameter."
   ]
  },
  {
   "cell_type": "code",
   "execution_count": 21,
   "metadata": {},
   "outputs": [],
   "source": [
    "testmon_api = TestMonitorClient(server_configuration)\n",
    "files_api = FileClient(server_configuration)\n",
    "products_api = ProductClient(server_configuration)"
   ]
  },
  {
   "cell_type": "markdown",
   "metadata": {},
   "source": [
    "### Query for results\n",
    "Query the Test Monitor Service for results matching the `results_filter` parameter."
   ]
  },
  {
   "cell_type": "code",
   "execution_count": null,
   "metadata": {},
   "outputs": [
    {
     "name": "stdout",
     "output_type": "stream",
     "text": [
      "Final Results Filter: id == \"52da240b-3fac-4629-9907-09062a557ee0\" || id == \"9d22e02f-1a96-4e7c-a573-effee83b6e5f\" || id == \"c019cb82-8966-408e-b841-5d26a6d926c3\" || id == \"f8c28c46-4560-4760-b204-dc60c6b44472\" || id == \"4f365ad0-06c1-4df5-ab47-6cd4f823e475\" || id == \"b8ed3a91-8b01-430e-ab28-93c7044ed1dd\" || id == \"2a837c66-13fb-4c36-88c8-e100f9e62fd2\" || id == \"a7e6e3c9-d36d-4376-97c9-2640bdbae909\" || id == \"0539018b-b4ba-403c-bc6a-423d0d9070f3\" || id == \"3c1b7a0b-26b8-409b-b668-005d2a1b1bae\" || id == \"4394063f-1e4e-44f8-9ebf-51fb25f6f381\" || id == \"c099edb5-2123-4748-b6fc-0b49d1fbc929\" || id == \"f4f83a44-94b2-434d-b91a-8779d267d123\" || id == \"e4bf2e33-ab6e-42ab-871b-806642a90770\" || id == \"ffb1f286-7628-4516-b8dd-bb1357c27c3f\" || id == \"0663c7c3-bfe7-420f-bb76-c09cffa1279c\" || id == \"4378c234-530d-4ec8-b939-919abc7faab3\" || id == \"6009140a-4959-4b76-85e9-4eb50d2c975c\" || id == \"70ec2e7a-c1f8-42d6-a039-b8643512bb4f\" || id == \"7866b4ea-8229-4a23-8611-79ef80cb1d28\" || id == \"7d6b4b2a-e7d6-4126-922c-b8ad0fbf507c\" || id == \"b2444f44-8461-4ce6-9432-a335429bc81e\" || id == \"b58591e8-f08b-4958-9f2c-5d187e0bfc68\" || id == \"e06e480f-23ab-4554-a0ce-ec97a05dfc33\" || id == \"e7c06260-f836-46c6-9dd5-befda3d34148\" || id == \"09363a43-06bb-47d3-9009-fe67a0d85fc7\" || id == \"1cc80331-b47c-47bf-a6ea-29a1ead1c94b\" || id == \"53e16e09-859d-4411-beb5-0dac044f5aa0\" || id == \"b1423a65-b96a-4e6c-85d4-3a0b54584357\" || id == \"ba32dbe2-6703-4ff5-8762-1dadbd9a8ea6\" || id == \"be48d6e1-be59-40d4-b382-814bd12821cf\" || id == \"cd81d71a-4f60-4fc8-b0ac-1ffc510514ad\" || id == \"d48b390b-d64a-4356-917d-508d7a2dda1e\" || id == \"da29e33f-5b76-4838-b54f-0497b41577f8\" || id == \"dae57631-e2eb-4dfa-93ec-e619fde5d32d\" || id == \"de87982a-8c65-48af-806f-cc9a51e9124e\" || id == \"debd1351-28f6-4f00-8d85-27e72b802f2b\" || id == \"079a6ce6-7cfd-4b0d-ba29-b4944a955c9d\" || id == \"31263a93-d952-4ae7-8126-81562063174e\" || id == \"6192087d-c981-4298-91e8-5fd238f8275c\" || id == \"84062ce7-5aa5-4769-b75a-3dd1152b2545\" || id == \"9a62b6a6-15b3-42e9-8a3d-3ce9a00a05a0\" || id == \"9ef1b679-37ba-46cd-8850-b9c1ad50c989\" || id == \"a4008572-1103-492e-85be-ed99c899b988\" || id == \"c1d6c2be-e793-4604-8a02-de9ebc6feac2\" || id == \"cd8365e0-567d-4fa3-aced-7ed30e1b6d52\" || id == \"e42c4137-9214-40f7-9473-274769b3944c\" || id == \"eb16cd8e-eb7b-47e1-b2ea-4f9759763af5\" || id == \"f3816a72-9404-4403-9904-e43c22d9df95\" || id == \"0b5b7de7-c8d5-4b49-9ee4-16736a4157a2\" || id == \"0e26c218-265b-46d7-a094-88d7045e23a2\" || id == \"11deaff1-cd80-40a3-8506-091addc6dd1d\" || id == \"23cbb57d-99f2-4dce-9d11-377bbf123522\" || id == \"23d2ac70-70f4-4ca4-98d7-21df353cee5e\" || id == \"33bf4fe5-4a9c-47e7-ba92-aca7866349b7\" || id == \"3872daf7-a7d1-4288-bf49-839b29fa8aab\" || id == \"62072993-2979-41d1-a068-b3202b8491fa\" || id == \"7d9b1e04-8030-4394-a29c-3aece02183c5\" || id == \"89681c41-091d-4fb2-b900-40919b0f96ba\" || id == \"959be11e-1774-4558-bbcc-d1fd5b3e837a\" || id == \"97601b76-ad42-4ad7-8449-28b88221af28\" || id == \"ae5a9c7e-1211-483c-85dd-63e4f3aa91d5\" || id == \"b711d0c5-1d7f-4a03-8b6d-dd912ac064f6\" || id == \"d08ff7e4-c751-4355-8831-78ac1acd3b5e\" || id == \"df8d8757-00af-4e42-8253-1c003c7d38e4\" || id == \"02f366f0-f8d3-4f7c-9c7d-cf8cc3fa4a71\" || id == \"31c19f8b-44ee-4370-a86c-e4d7938a68d5\" || id == \"350c4eb7-b091-4f4a-bf83-c8c17cc87c4a\" || id == \"40994a26-a01b-4f38-a79e-81d0f186f01c\" || id == \"40fbbbda-4c18-4367-9205-c14da300b7a9\" || id == \"64c65557-33ef-474d-941d-ccd3b872f832\" || id == \"9cb90f3e-70a0-47d3-a200-c1a5b8589144\" || id == \"a83dd5ca-58a2-409d-b80d-6e6e91e0c3a3\" || (id == \"d28832d9-2847-41b0-95e3-7ce55c23343e\") && (status.statusType == \"FAILED\")\n"
     ]
    },
    {
     "data": {
      "text/plain": [
       "'5e24401b-fdb6-4185-8364-723164504590'"
      ]
     },
     "execution_count": 22,
     "metadata": {},
     "output_type": "execute_result"
    }
   ],
   "source": [
    "\n",
    "final_results_filter = \"\"\n",
    "for count, result_id in enumerate(result_ids[:-1], start = 1):\n",
    "    final_results_filter += f'id == \"{result_id}\" || '\n",
    "\n",
    "final_results_filter += f'(id == \"{result_ids[-1]}\") '\n",
    "final_results_filter += '&& (status.statusType == \"FAILED\")'\n",
    "\n",
    "#Create a query to get the results\n",
    "results_query = QueryResultsRequest(\n",
    "    filter=final_results_filter,\n",
    "    order_by=ResultField.STARTED_AT,\n",
    "    continuation_token=None,\n",
    "    take=1,  # Adjust the limit as needed\n",
    ")\n",
    "\n",
    "results = []\n",
    "\n",
    "response = testmon_api.query_results(results_query)\n",
    "while response.continuation_token:\n",
    "    results = results + response.results\n",
    "    results_query.continuation_token = response.continuation_token\n",
    "    response = testmon_api.query_results(results_query)\n",
    "\n",
    "\n",
    "workspace_id = results[0].workspace\n",
    "part_numbers = [result.part_number for result in results]"
   ]
  },
  {
   "cell_type": "markdown",
   "metadata": {},
   "source": [
    "### Get Part Numbers\n",
    "Collect the part numbers for each result."
   ]
  },
  {
   "cell_type": "code",
   "execution_count": 23,
   "metadata": {},
   "outputs": [],
   "source": [
    "part_numbers = []\n",
    "for result in results:\n",
    "    part_numbers.append(result.part_number)"
   ]
  },
  {
   "cell_type": "markdown",
   "metadata": {},
   "source": [
    "### Create pandas dataframe\n",
    "Put the data into a dataframe whose columns are test result id, status, and part number."
   ]
  },
  {
   "cell_type": "code",
   "execution_count": 24,
   "metadata": {},
   "outputs": [
    {
     "data": {
      "application/vnd.microsoft.datawrangler.viewer.v0+json": {
       "columns": [
        {
         "name": "index",
         "rawType": "int64",
         "type": "integer"
        },
        {
         "name": "id",
         "rawType": "object",
         "type": "string"
        },
        {
         "name": "status",
         "rawType": "object",
         "type": "string"
        },
        {
         "name": "part_number",
         "rawType": "object",
         "type": "string"
        }
       ],
       "ref": "c5d5968f-08ce-4b16-8441-967e855d028f",
       "rows": [
        [
         "0",
         "52da240b-3fac-4629-9907-09062a557ee0",
         "StatusType.FAILED",
         "14W794AK010"
        ],
        [
         "1",
         "9d22e02f-1a96-4e7c-a573-effee83b6e5f",
         "StatusType.FAILED",
         "14W794AK010"
        ],
        [
         "2",
         "c019cb82-8966-408e-b841-5d26a6d926c3",
         "StatusType.FAILED",
         "17RIEACZ010"
        ],
        [
         "3",
         "f8c28c46-4560-4760-b204-dc60c6b44472",
         "StatusType.FAILED",
         "14W794AK010"
        ],
        [
         "4",
         "4f365ad0-06c1-4df5-ab47-6cd4f823e475",
         "StatusType.FAILED",
         "14W794AK010"
        ],
        [
         "5",
         "b8ed3a91-8b01-430e-ab28-93c7044ed1dd",
         "StatusType.FAILED",
         "14W794AK010"
        ],
        [
         "6",
         "2a837c66-13fb-4c36-88c8-e100f9e62fd2",
         "StatusType.FAILED",
         "14W794AK010"
        ],
        [
         "7",
         "a7e6e3c9-d36d-4376-97c9-2640bdbae909",
         "StatusType.FAILED",
         "14W794AK010"
        ],
        [
         "8",
         "0539018b-b4ba-403c-bc6a-423d0d9070f3",
         "StatusType.FAILED",
         "14W794AK010"
        ],
        [
         "9",
         "3c1b7a0b-26b8-409b-b668-005d2a1b1bae",
         "StatusType.FAILED",
         "14W794AK010"
        ],
        [
         "10",
         "4394063f-1e4e-44f8-9ebf-51fb25f6f381",
         "StatusType.FAILED",
         "14W794AK010"
        ],
        [
         "11",
         "c099edb5-2123-4748-b6fc-0b49d1fbc929",
         "StatusType.FAILED",
         "17RIEACZ010"
        ],
        [
         "12",
         "f4f83a44-94b2-434d-b91a-8779d267d123",
         "StatusType.FAILED",
         "14W794AK010"
        ],
        [
         "13",
         "e4bf2e33-ab6e-42ab-871b-806642a90770",
         "StatusType.FAILED",
         "14W794AK010"
        ],
        [
         "14",
         "ffb1f286-7628-4516-b8dd-bb1357c27c3f",
         "StatusType.FAILED",
         "14W794AK010"
        ],
        [
         "15",
         "0663c7c3-bfe7-420f-bb76-c09cffa1279c",
         "StatusType.FAILED",
         "17RIEACZ010"
        ],
        [
         "16",
         "4378c234-530d-4ec8-b939-919abc7faab3",
         "StatusType.FAILED",
         "17RIEACZ010"
        ],
        [
         "17",
         "6009140a-4959-4b76-85e9-4eb50d2c975c",
         "StatusType.FAILED",
         "17RIEACZ010"
        ],
        [
         "18",
         "70ec2e7a-c1f8-42d6-a039-b8643512bb4f",
         "StatusType.FAILED",
         "17RIEACZ010"
        ],
        [
         "19",
         "7866b4ea-8229-4a23-8611-79ef80cb1d28",
         "StatusType.FAILED",
         "17RIEACZ010"
        ],
        [
         "20",
         "7d6b4b2a-e7d6-4126-922c-b8ad0fbf507c",
         "StatusType.FAILED",
         "17RIEACZ010"
        ],
        [
         "21",
         "b2444f44-8461-4ce6-9432-a335429bc81e",
         "StatusType.FAILED",
         "17RIEACZ010"
        ],
        [
         "22",
         "b58591e8-f08b-4958-9f2c-5d187e0bfc68",
         "StatusType.FAILED",
         "17RIEACZ010"
        ],
        [
         "23",
         "e06e480f-23ab-4554-a0ce-ec97a05dfc33",
         "StatusType.FAILED",
         "17RIEACZ010"
        ],
        [
         "24",
         "e7c06260-f836-46c6-9dd5-befda3d34148",
         "StatusType.FAILED",
         "14W794AK010"
        ],
        [
         "25",
         "09363a43-06bb-47d3-9009-fe67a0d85fc7",
         "StatusType.FAILED",
         "17RIEACZ010"
        ],
        [
         "26",
         "1cc80331-b47c-47bf-a6ea-29a1ead1c94b",
         "StatusType.FAILED",
         "17RIEACZ010"
        ],
        [
         "27",
         "53e16e09-859d-4411-beb5-0dac044f5aa0",
         "StatusType.FAILED",
         "17RIEACZ010"
        ],
        [
         "28",
         "b1423a65-b96a-4e6c-85d4-3a0b54584357",
         "StatusType.FAILED",
         "17RIEACZ010"
        ],
        [
         "29",
         "ba32dbe2-6703-4ff5-8762-1dadbd9a8ea6",
         "StatusType.FAILED",
         "17RIEACZ010"
        ],
        [
         "30",
         "be48d6e1-be59-40d4-b382-814bd12821cf",
         "StatusType.FAILED",
         "17RIEACZ010"
        ],
        [
         "31",
         "cd81d71a-4f60-4fc8-b0ac-1ffc510514ad",
         "StatusType.FAILED",
         "17RIEACZ010"
        ],
        [
         "32",
         "d48b390b-d64a-4356-917d-508d7a2dda1e",
         "StatusType.FAILED",
         "17RIEACZ010"
        ],
        [
         "33",
         "da29e33f-5b76-4838-b54f-0497b41577f8",
         "StatusType.FAILED",
         "17RIEACZ010"
        ],
        [
         "34",
         "dae57631-e2eb-4dfa-93ec-e619fde5d32d",
         "StatusType.FAILED",
         "17RIEACZ010"
        ],
        [
         "35",
         "de87982a-8c65-48af-806f-cc9a51e9124e",
         "StatusType.FAILED",
         "17RIEACZ010"
        ],
        [
         "36",
         "debd1351-28f6-4f00-8d85-27e72b802f2b",
         "StatusType.FAILED",
         "17RIEACZ010"
        ],
        [
         "37",
         "079a6ce6-7cfd-4b0d-ba29-b4944a955c9d",
         "StatusType.FAILED",
         "17RIEACZ010"
        ],
        [
         "38",
         "31263a93-d952-4ae7-8126-81562063174e",
         "StatusType.FAILED",
         "17RIEACZ010"
        ],
        [
         "39",
         "6192087d-c981-4298-91e8-5fd238f8275c",
         "StatusType.FAILED",
         "17RIEACZ010"
        ],
        [
         "40",
         "84062ce7-5aa5-4769-b75a-3dd1152b2545",
         "StatusType.FAILED",
         "17RIEACZ010"
        ],
        [
         "41",
         "9a62b6a6-15b3-42e9-8a3d-3ce9a00a05a0",
         "StatusType.FAILED",
         "17RIEACZ010"
        ],
        [
         "42",
         "9ef1b679-37ba-46cd-8850-b9c1ad50c989",
         "StatusType.FAILED",
         "17RIEACZ010"
        ],
        [
         "43",
         "a4008572-1103-492e-85be-ed99c899b988",
         "StatusType.FAILED",
         "14W794AK010"
        ],
        [
         "44",
         "c1d6c2be-e793-4604-8a02-de9ebc6feac2",
         "StatusType.FAILED",
         "14W794AK010"
        ],
        [
         "45",
         "cd8365e0-567d-4fa3-aced-7ed30e1b6d52",
         "StatusType.FAILED",
         "17RIEACZ010"
        ],
        [
         "46",
         "e42c4137-9214-40f7-9473-274769b3944c",
         "StatusType.FAILED",
         "17RIEACZ010"
        ],
        [
         "47",
         "eb16cd8e-eb7b-47e1-b2ea-4f9759763af5",
         "StatusType.FAILED",
         "17RIEACZ010"
        ],
        [
         "48",
         "f3816a72-9404-4403-9904-e43c22d9df95",
         "StatusType.FAILED",
         "17RIEACZ010"
        ],
        [
         "49",
         "0b5b7de7-c8d5-4b49-9ee4-16736a4157a2",
         "StatusType.FAILED",
         "17RIEACZ010"
        ]
       ],
       "shape": {
        "columns": 3,
        "rows": 74
       }
      },
      "text/html": [
       "<div>\n",
       "<style scoped>\n",
       "    .dataframe tbody tr th:only-of-type {\n",
       "        vertical-align: middle;\n",
       "    }\n",
       "\n",
       "    .dataframe tbody tr th {\n",
       "        vertical-align: top;\n",
       "    }\n",
       "\n",
       "    .dataframe thead th {\n",
       "        text-align: right;\n",
       "    }\n",
       "</style>\n",
       "<table border=\"1\" class=\"dataframe\">\n",
       "  <thead>\n",
       "    <tr style=\"text-align: right;\">\n",
       "      <th></th>\n",
       "      <th>id</th>\n",
       "      <th>status</th>\n",
       "      <th>part_number</th>\n",
       "    </tr>\n",
       "  </thead>\n",
       "  <tbody>\n",
       "    <tr>\n",
       "      <th>0</th>\n",
       "      <td>52da240b-3fac-4629-9907-09062a557ee0</td>\n",
       "      <td>StatusType.FAILED</td>\n",
       "      <td>14W794AK010</td>\n",
       "    </tr>\n",
       "    <tr>\n",
       "      <th>1</th>\n",
       "      <td>9d22e02f-1a96-4e7c-a573-effee83b6e5f</td>\n",
       "      <td>StatusType.FAILED</td>\n",
       "      <td>14W794AK010</td>\n",
       "    </tr>\n",
       "    <tr>\n",
       "      <th>2</th>\n",
       "      <td>c019cb82-8966-408e-b841-5d26a6d926c3</td>\n",
       "      <td>StatusType.FAILED</td>\n",
       "      <td>17RIEACZ010</td>\n",
       "    </tr>\n",
       "    <tr>\n",
       "      <th>3</th>\n",
       "      <td>f8c28c46-4560-4760-b204-dc60c6b44472</td>\n",
       "      <td>StatusType.FAILED</td>\n",
       "      <td>14W794AK010</td>\n",
       "    </tr>\n",
       "    <tr>\n",
       "      <th>4</th>\n",
       "      <td>4f365ad0-06c1-4df5-ab47-6cd4f823e475</td>\n",
       "      <td>StatusType.FAILED</td>\n",
       "      <td>14W794AK010</td>\n",
       "    </tr>\n",
       "    <tr>\n",
       "      <th>...</th>\n",
       "      <td>...</td>\n",
       "      <td>...</td>\n",
       "      <td>...</td>\n",
       "    </tr>\n",
       "    <tr>\n",
       "      <th>69</th>\n",
       "      <td>40fbbbda-4c18-4367-9205-c14da300b7a9</td>\n",
       "      <td>StatusType.FAILED</td>\n",
       "      <td>17RIEACZ010</td>\n",
       "    </tr>\n",
       "    <tr>\n",
       "      <th>70</th>\n",
       "      <td>64c65557-33ef-474d-941d-ccd3b872f832</td>\n",
       "      <td>StatusType.FAILED</td>\n",
       "      <td>17RIEACZ010</td>\n",
       "    </tr>\n",
       "    <tr>\n",
       "      <th>71</th>\n",
       "      <td>9cb90f3e-70a0-47d3-a200-c1a5b8589144</td>\n",
       "      <td>StatusType.FAILED</td>\n",
       "      <td>14W794AK010</td>\n",
       "    </tr>\n",
       "    <tr>\n",
       "      <th>72</th>\n",
       "      <td>a83dd5ca-58a2-409d-b80d-6e6e91e0c3a3</td>\n",
       "      <td>StatusType.FAILED</td>\n",
       "      <td>17RIEACZ010</td>\n",
       "    </tr>\n",
       "    <tr>\n",
       "      <th>73</th>\n",
       "      <td>d28832d9-2847-41b0-95e3-7ce55c23343e</td>\n",
       "      <td>StatusType.FAILED</td>\n",
       "      <td>17RIEACZ010</td>\n",
       "    </tr>\n",
       "  </tbody>\n",
       "</table>\n",
       "<p>74 rows × 3 columns</p>\n",
       "</div>"
      ],
      "text/plain": [
       "                                      id             status  part_number\n",
       "0   52da240b-3fac-4629-9907-09062a557ee0  StatusType.FAILED  14W794AK010\n",
       "1   9d22e02f-1a96-4e7c-a573-effee83b6e5f  StatusType.FAILED  14W794AK010\n",
       "2   c019cb82-8966-408e-b841-5d26a6d926c3  StatusType.FAILED  17RIEACZ010\n",
       "3   f8c28c46-4560-4760-b204-dc60c6b44472  StatusType.FAILED  14W794AK010\n",
       "4   4f365ad0-06c1-4df5-ab47-6cd4f823e475  StatusType.FAILED  14W794AK010\n",
       "..                                   ...                ...          ...\n",
       "69  40fbbbda-4c18-4367-9205-c14da300b7a9  StatusType.FAILED  17RIEACZ010\n",
       "70  64c65557-33ef-474d-941d-ccd3b872f832  StatusType.FAILED  17RIEACZ010\n",
       "71  9cb90f3e-70a0-47d3-a200-c1a5b8589144  StatusType.FAILED  14W794AK010\n",
       "72  a83dd5ca-58a2-409d-b80d-6e6e91e0c3a3  StatusType.FAILED  17RIEACZ010\n",
       "73  d28832d9-2847-41b0-95e3-7ce55c23343e  StatusType.FAILED  17RIEACZ010\n",
       "\n",
       "[74 rows x 3 columns]"
      ]
     },
     "execution_count": 24,
     "metadata": {},
     "output_type": "execute_result"
    }
   ],
   "source": [
    "formatted_results = {\n",
    "    'id': [result.id for result in results],\n",
    "    'status': [result.status.status_type if result.status else None for result in results],\n",
    "    'part_number': part_numbers\n",
    "}\n",
    "\n",
    "df_results = pd.DataFrame.from_dict(formatted_results)\n",
    "\n",
    "df_results"
   ]
  },
  {
   "cell_type": "code",
   "execution_count": 25,
   "metadata": {},
   "outputs": [],
   "source": [
    "df_results_copy = copy.copy(df_results)\n",
    "df_results_copy.fillna(value='', inplace=True)"
   ]
  },
  {
   "cell_type": "markdown",
   "metadata": {},
   "source": [
    "### Aggregate results into groups based on status\n",
    "Aggregate the data for each unique part number and status."
   ]
  },
  {
   "cell_type": "code",
   "execution_count": 26,
   "metadata": {},
   "outputs": [],
   "source": [
    "df_grouped = df_results_copy.groupby(['part_number', 'status']).size().unstack(fill_value=0)\n",
    "if 'PASSED' not in df_grouped:\n",
    "    df_grouped['PASSED'] = 0\n",
    "if 'FAILED' not in df_grouped:\n",
    "    df_grouped['FAILED'] = 0\n",
    "if 'ERRORED' not in df_grouped:\n",
    "    df_grouped['ERRORED'] = 0"
   ]
  },
  {
   "cell_type": "markdown",
   "metadata": {},
   "source": [
    "### Failure Pareto calculation\n",
    "Count the number of test failures and calculate cumulative values for the pareto."
   ]
  },
  {
   "cell_type": "code",
   "execution_count": 27,
   "metadata": {},
   "outputs": [],
   "source": [
    "df_fail_count = pd.DataFrame(df_grouped['FAILED'] + df_grouped['ERRORED'])\n",
    "total = df_fail_count[0].sum()\n",
    "pareto_values = []\n",
    "cumulative = 0\n",
    "for data_member in df_fail_count[0]:\n",
    "    cumulative += data_member\n",
    "    pareto_values.append(100 * (cumulative / total))\n",
    "df_pareto = df_fail_count.reset_index().set_axis(['part_number', 'fail_count'], axis=1)\n",
    "df_pareto['cumulative'] = pareto_values"
   ]
  },
  {
   "cell_type": "code",
   "execution_count": 28,
   "metadata": {},
   "outputs": [
    {
     "name": "stderr",
     "output_type": "stream",
     "text": [
      "/tmp/ipykernel_55/2419766519.py:1: FutureWarning: A value is trying to be set on a copy of a DataFrame or Series through chained assignment using an inplace method.\n",
      "The behavior will change in pandas 3.0. This inplace method will never work because the intermediate object on which we are setting values always behaves as a copy.\n",
      "\n",
      "For example, when doing 'df[col].method(value, inplace=True)', try using 'df.method({col: value}, inplace=True)' or df[col] = df[col].method(value) instead, to perform the operation inplace on the original object.\n",
      "\n",
      "\n",
      "  df_pareto['part_number'].replace(r'^$', 'No ' + PART_NUMBER, regex=True, inplace=True)\n"
     ]
    }
   ],
   "source": [
    "df_pareto['part_number'].replace(r'^$', 'No ' + PART_NUMBER, regex=True, inplace=True)\n",
    "\n",
    "df_dict = {\n",
    "    'columns': pd.io.json.build_table_schema(df_pareto, index=False)['fields'],\n",
    "    'values': df_pareto.values,\n",
    "}\n",
    "\n",
    "pareto_graph = {\n",
    "    \"type\": 'data_frame',\n",
    "    'id': 'failure_pareto_results_graph',\n",
    "    'data': df_dict,\n",
    "    'config': {\n",
    "        'title': 'Failure Pareto - Results by {}'.format(PART_NUMBER),\n",
    "        'graph': {\n",
    "            'axis_labels': [PART_NUMBER, 'Failure Count', 'Cumulative %'],\n",
    "            'plots': [\n",
    "                {'x': 'part_number', 'y': 'fail_count', 'style': 'BAR', 'GROUP_BY': ['part_number']},\n",
    "                {'x': 'part_number', 'y': 'cumulative', 'secondary_y': True, 'style': 'LINE'}\n",
    "            ],\n",
    "            'orientation': 'VERTICAL'\n",
    "        }\n",
    "    }\n",
    "}"
   ]
  },
  {
   "cell_type": "markdown",
   "metadata": {},
   "source": [
    "### Generate plot PNG"
   ]
  },
  {
   "cell_type": "code",
   "execution_count": 29,
   "metadata": {},
   "outputs": [
    {
     "data": {
      "image/png": "[encoded data removed]",
      "text/plain": [
       "<Figure size 640x480 with 2 Axes>"
      ]
     },
     "metadata": {},
     "output_type": "display_data"
    }
   ],
   "source": [
    "# Extract data from the pareto_graph dictionary\n",
    "title = pareto_graph['config']['title']\n",
    "axis_labels = pareto_graph['config']['graph']['axis_labels']\n",
    "plots = pareto_graph['config']['graph']['plots']\n",
    "\n",
    "# Plot data\n",
    "fig, ax1 = plt.subplots()\n",
    "\n",
    "for plot in plots:\n",
    "    if plot['style'] == 'BAR':\n",
    "        ax1.bar(\n",
    "            df_pareto[plot['x']], \n",
    "            df_pareto[plot['y']], \n",
    "            label=plot['x'])\n",
    "        ax1.set_ylabel(axis_labels[1])\n",
    "        ax1.set_xlabel(axis_labels[0])\n",
    "    elif plot['style'] == 'LINE':\n",
    "        ax2 = ax1.twinx()\n",
    "        ax2.plot(df_pareto[plot['x']], df_pareto[plot['y']], label=plot['x'], color='r')\n",
    "        ax2.set_ylabel(axis_labels[2])\n",
    "\n",
    "# Title and legend\n",
    "plt.title(title)\n",
    "plt.legend()\n",
    "ax1.tick_params(axis='x', labelrotation = 90)\n",
    "\n",
    "# Save as PNG file\n",
    "plt.savefig(PLOT_FILE_NAME, bbox_inches='tight')\n",
    "\n",
    "# Show the plot (optional)\n",
    "plt.show()\n",
    "\n"
   ]
  },
  {
   "cell_type": "markdown",
   "metadata": {},
   "source": [
    "### Upload Plot to files service and link to products"
   ]
  },
  {
   "cell_type": "code",
   "execution_count": 30,
   "metadata": {},
   "outputs": [],
   "source": [
    "# def upload_file(file_name, workspace=None):\n",
    "#     filepath = os.path.join(os.getcwd(), file_name)\n",
    "#     with open(filepath, 'rb') as file:\n",
    "#         file_id = files_api.upload_file(file=file, workspace=workspace)\n",
    "\n",
    "#     return file_id\n",
    "\n",
    "# def get_products(part_numbers):\n",
    "#     query_filter = \"\"\n",
    "#     for part_number in part_numbers[:-1]:\n",
    "#         query_filter += f'partNumber == \"{part_number}\" or '\n",
    "\n",
    "#     query_filter += f'partNumber == \"{part_numbers[-1]}\"'\n",
    "#     query_body = {\"filter\": query_filter}\n",
    "\n",
    "#     query_request = QueryProductsRequest(\n",
    "#         filter=query_filter\n",
    "#         )\n",
    "    \n",
    "#     products = []\n",
    "\n",
    "#     response = products_api.query_products_paged(query_request)\n",
    "#     while response.continuation_token:\n",
    "#         products = products + response.products\n",
    "#         query_request.continuation_token = response.continuation_token\n",
    "#         response = products_api.query_products_paged(query_request)\n",
    "\n",
    "#     return products\n",
    "\n",
    "# def add_file_id_to_products(part_numbers, file_id):\n",
    "#     products = get_products(part_numbers)\n",
    "#     for product in products:\n",
    "#         product.file_ids.append(file_id)\n",
    "#     response = products_api.update_products(products=products, replace=False)\n",
    "\n",
    "#     return products"
   ]
  },
  {
   "cell_type": "code",
   "execution_count": 31,
   "metadata": {},
   "outputs": [],
   "source": [
    "# uploaded_file_id = upload_file(file_name=PLOT_FILE_NAME, workspace=workspace_id)\n",
    "# products = add_file_id_to_products(\n",
    "#     part_numbers, file_id=uploaded_file_id\n",
    "# )\n",
    "# product_id = products[0].id"
   ]
  },
  {
   "cell_type": "markdown",
   "metadata": {},
   "source": [
    "### Record results with Scrapbook"
   ]
  },
  {
   "cell_type": "code",
   "execution_count": 32,
   "metadata": {},
   "outputs": [],
   "source": [
    "# sb.glue(\n",
    "#     \"The resultant failure pareto analysis is uploaded as an image\",\n",
    "#     f'<a href=\"../../testinsights/products/product/{product_id}/files\">Link to image</a>',\n",
    "# )"
   ]
  },
  {
   "cell_type": "markdown",
   "metadata": {},
   "source": [
    "### Next Steps\n",
    "\n",
    "1. Publish this notebook to SystemLink by right-clicking it in the JupyterLab File Browser with the interface as Test Data Analysis.\n",
    "1. Manually Analyze the results inside results grid by clicking analyze button."
   ]
  }
 ],
 "metadata": {
  "kernelspec": {
   "display_name": "Python 3 (ipykernel)",
   "language": "python",
   "name": "python3"
  },
  "language_info": {
   "codemirror_mode": {
    "name": "ipython",
    "version": 3
   },
   "file_extension": ".py",
   "mimetype": "text/x-python",
   "name": "python",
   "nbconvert_exporter": "python",
   "pygments_lexer": "ipython3",
   "version": "3.12.11"
  }
 },
 "nbformat": 4,
 "nbformat_minor": 4
}
